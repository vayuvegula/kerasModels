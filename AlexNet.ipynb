{
 "cells": [
  {
   "cell_type": "code",
   "execution_count": 58,
   "metadata": {},
   "outputs": [],
   "source": [
    "#importing the necessary modules\n",
    "import numpy\n",
    "import keras\n",
    "from keras.layers import Conv2D,Dense,ReLU,MaxPooling2D,Flatten\n",
    "from keras.models import Sequential,Model,Input"
   ]
  },
  {
   "cell_type": "code",
   "execution_count": 57,
   "metadata": {},
   "outputs": [],
   "source": [
    "#Creating an instance of the Sequential Model\n",
    "model = keras.Sequential()"
   ]
  },
  {
   "cell_type": "code",
   "execution_count": 105,
   "metadata": {},
   "outputs": [],
   "source": [
    "#Use Sequential Functional API methodology to build the models\n",
    "#Conventions\n",
    "#CL_x : Convolution layer\n",
    "#MP_x : Max Pooling layer\n",
    "#FC_x : Fully connected layer\n",
    "\n",
    "inputs = Input(shape=(227,227,3))\n",
    "\n",
    "CL_1 = Conv2D(filters=96, kernel_size = (11,11),\n",
    "                       strides=(4,4), padding ='valid',\n",
    "                        activation='relu')(inputs)\n",
    "\n",
    "MP_1 = MaxPooling2D(pool_size=(3,3), strides=(2,2))(CL_1)\n",
    "\n",
    "CL_2 = Conv2D(filters=256, kernel_size=(5,5),\n",
    "                strides=(1,1),padding='same',\n",
    "                activation='relu')(MP_1)\n",
    "\n",
    "MP_2 = MaxPooling2D(pool_size=(3,3), strides=(2,2))(CL_2)\n",
    "\n",
    "CL_3 = Conv2D(filters=384, kernel_size=(3,3),\n",
    "                strides=(1,1),padding='same',\n",
    "                activation='relu')(MP_2)\n",
    "\n",
    "CL_4 = Conv2D(filters=384, kernel_size=(3,3),\n",
    "                strides=(1,1),padding='same',\n",
    "                activation='relu')(CL_3)\n",
    "\n",
    "CL_5 = Conv2D(filters=256, kernel_size=(3,3),\n",
    "                strides=(1,1),padding='same',\n",
    "                activation='relu')(CL_4)\n",
    "\n",
    "MP_3 = MaxPooling2D(pool_size=(3,3), strides=(2,2))(CL_5)\n",
    "\n",
    "Flatten_Layer = Flatten()(MP_3)\n",
    "\n",
    "FC_1 = Dense(4096,activation='relu')(Flatten_Layer)\n",
    "\n",
    "FC_2 = Dense(4096,activation='relu')(FC_1)\n",
    "\n",
    "output = Dense(1000,activation='softmax')(FC_2)\n",
    "\n",
    "#Compile the model\n",
    "model = keras.models.Model(inputs,output)"
   ]
  },
  {
   "cell_type": "code",
   "execution_count": 106,
   "metadata": {},
   "outputs": [
    {
     "name": "stdout",
     "output_type": "stream",
     "text": [
      "_________________________________________________________________\n",
      "Layer (type)                 Output Shape              Param #   \n",
      "=================================================================\n",
      "input_36 (InputLayer)        (None, 227, 227, 3)       0         \n",
      "_________________________________________________________________\n",
      "conv2d_100 (Conv2D)          (None, 55, 55, 96)        34944     \n",
      "_________________________________________________________________\n",
      "max_pooling2d_53 (MaxPooling (None, 27, 27, 96)        0         \n",
      "_________________________________________________________________\n",
      "conv2d_101 (Conv2D)          (None, 27, 27, 256)       614656    \n",
      "_________________________________________________________________\n",
      "max_pooling2d_54 (MaxPooling (None, 13, 13, 256)       0         \n",
      "_________________________________________________________________\n",
      "conv2d_102 (Conv2D)          (None, 13, 13, 384)       885120    \n",
      "_________________________________________________________________\n",
      "conv2d_103 (Conv2D)          (None, 13, 13, 384)       1327488   \n",
      "_________________________________________________________________\n",
      "conv2d_104 (Conv2D)          (None, 13, 13, 256)       884992    \n",
      "_________________________________________________________________\n",
      "max_pooling2d_55 (MaxPooling (None, 6, 6, 256)         0         \n",
      "_________________________________________________________________\n",
      "flatten_12 (Flatten)         (None, 9216)              0         \n",
      "_________________________________________________________________\n",
      "dense_24 (Dense)             (None, 4096)              37752832  \n",
      "_________________________________________________________________\n",
      "dense_25 (Dense)             (None, 4096)              16781312  \n",
      "_________________________________________________________________\n",
      "dense_26 (Dense)             (None, 1000)              4097000   \n",
      "=================================================================\n",
      "Total params: 62,378,344\n",
      "Trainable params: 62,378,344\n",
      "Non-trainable params: 0\n",
      "_________________________________________________________________\n"
     ]
    }
   ],
   "source": [
    "model.summary()"
   ]
  },
  {
   "cell_type": "code",
   "execution_count": null,
   "metadata": {},
   "outputs": [],
   "source": []
  }
 ],
 "metadata": {
  "kernelspec": {
   "display_name": "Python 3",
   "language": "python",
   "name": "python3"
  },
  "language_info": {
   "codemirror_mode": {
    "name": "ipython",
    "version": 3
   },
   "file_extension": ".py",
   "mimetype": "text/x-python",
   "name": "python",
   "nbconvert_exporter": "python",
   "pygments_lexer": "ipython3",
   "version": "3.6.8"
  }
 },
 "nbformat": 4,
 "nbformat_minor": 2
}
