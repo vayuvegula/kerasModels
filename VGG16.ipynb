{
 "cells": [
  {
   "cell_type": "code",
   "execution_count": 83,
   "metadata": {},
   "outputs": [],
   "source": [
    "#importing the necessary modules\n",
    "import numpy\n",
    "import keras\n",
    "from keras.layers import Conv2D,Dense,ReLU,MaxPooling2D,Flatten\n",
    "from keras.models import Sequential,Model,Input"
   ]
  },
  {
   "cell_type": "code",
   "execution_count": 84,
   "metadata": {},
   "outputs": [],
   "source": [
    "#Creating an instance of the Sequential Model\n",
    "model = keras.Sequential()"
   ]
  },
  {
   "cell_type": "code",
   "execution_count": 85,
   "metadata": {},
   "outputs": [],
   "source": [
    "#Use Sequential Functional API methodology to build the models\n",
    "#Conventions\n",
    "#CL_x : Convolution layer\n",
    "#CLB_x: Convolution block\n",
    "#MP_x : Max Pooling layer\n",
    "#FC_x : Fully connected layer\n",
    "\n",
    "\n",
    "inputs = Input(shape=(224,224,3))\n"
   ]
  },
  {
   "cell_type": "code",
   "execution_count": 86,
   "metadata": {},
   "outputs": [],
   "source": [
    "# create a convolutional block\n",
    "\n",
    "def conv_block(num_layers,num_filters,input_layer):\n",
    "    \"\"\"\n",
    "    num_layers: the numbers of convolutional layers in the block\n",
    "    num_filters: the number of filters for each layer\n",
    "    input_layer:The input layer going into the block\n",
    "    The kernel/Filter size (3,3), strides(1,1) and padding='same' are the default \n",
    "    values and not expected to be changed\n",
    "    Dependencies:Import keras.models\n",
    "                 model = keras.Sequential()\n",
    "    \"\"\"\n",
    "    x=input_layer\n",
    "    conv_block= Conv2D(num_filters, kernel_size=(3,3),\n",
    "                  strides=(1,1), padding='same',\n",
    "                  activation='relu')(x)\n",
    "    if num_layers >1:\n",
    "        for n in range(1,num_layers):\n",
    "            conv_block = Conv2D(num_filters, kernel_size=(3,3),\n",
    "                  strides=(1,1), padding='same',\n",
    "                  activation='relu')(conv_block)\n",
    "    return conv_block\n",
    "\n",
    "# creating the MaxPooling layer\n",
    "\n",
    "def MP(input_layer):\n",
    "    \"\"\"\n",
    "input layer: The input layer on which the Max pooling will be done,\n",
    "             in this case mostly the o/p of the conv_block\n",
    "    \"\"\"\n",
    "    MP_x = MaxPooling2D(pool_size=(2,2),strides=(2,2))(input_layer)\n",
    "    return MP_x\n",
    "\n",
    "# creating the Fully connected layer block\n",
    "\n",
    "# def FC_block(num_layers,units,input_layer):\n",
    "#     \"\"\"\n",
    "#     num_layers: the number of fully connected Dense layers\n",
    "#     units:The number of units per layer (have to be same for all layers)\n",
    "#     input layer: The input layer on which the Max pooling will be done,\n",
    "#                  in this case mostly the o/p of the conv_block\n",
    "#     assumption is the activation function is 'relu'\n",
    "#     \"\"\"\n",
    "#     x=input_layer\n",
    "#     FC_x = Dense(units=units,activation='relu')(x)\n",
    "#     if num_layers>1:\n",
    "#         for n in range(1,num_layers):\n",
    "#             FC_x = Dense(units=units,activation='relu')(FC_x)\n",
    "#     return FC_x"
   ]
  },
  {
   "cell_type": "code",
   "execution_count": 87,
   "metadata": {},
   "outputs": [],
   "source": [
    "CLB_1 = conv_block(2,64,inputs)\n",
    "MP_1 = MP(CLB_1)\n",
    "\n",
    "CLB_2 = conv_block(2,128,MP_1)\n",
    "MP_2 = MP(CLB_2)\n",
    "\n",
    "CLB_3 = conv_block(3,256,MP_2)\n",
    "MP_3 = MP(CLB_3)\n",
    "\n",
    "CLB_4 = conv_block(3,512,MP_3)\n",
    "MP_4 = MP(CLB_4)\n",
    "\n",
    "CLB_5 = conv_block(3,512,MP_4)\n",
    "MP_5 = MP(CLB_5)\n",
    "\n",
    "Flatten_layer = Flatten()(MP_5)\n",
    "\n",
    "FC_1 = Dense(units=4096,activation='relu')(Flatten_layer)\n",
    "FC_2 = Dense(units=4096,activation='relu')(FC_1)\n",
    "output = Dense(units=1000,activation='softmax')(FC_2)#FC_3"
   ]
  },
  {
   "cell_type": "code",
   "execution_count": 90,
   "metadata": {},
   "outputs": [],
   "source": [
    "#Creating the model frame and compiling\n",
    "model = keras.models.Model(inputs,output)\n",
    "model.compile(loss='categorical_crossentropy',\n",
    "              optimizer='adam',\n",
    "              metrics=['acc'])"
   ]
  },
  {
   "cell_type": "code",
   "execution_count": 91,
   "metadata": {},
   "outputs": [
    {
     "name": "stdout",
     "output_type": "stream",
     "text": [
      "_________________________________________________________________\n",
      "Layer (type)                 Output Shape              Param #   \n",
      "=================================================================\n",
      "input_8 (InputLayer)         (None, 224, 224, 3)       0         \n",
      "_________________________________________________________________\n",
      "conv2d_117 (Conv2D)          (None, 224, 224, 64)      1792      \n",
      "_________________________________________________________________\n",
      "conv2d_118 (Conv2D)          (None, 224, 224, 64)      36928     \n",
      "_________________________________________________________________\n",
      "max_pooling2d_37 (MaxPooling (None, 112, 112, 64)      0         \n",
      "_________________________________________________________________\n",
      "conv2d_119 (Conv2D)          (None, 112, 112, 128)     73856     \n",
      "_________________________________________________________________\n",
      "conv2d_120 (Conv2D)          (None, 112, 112, 128)     147584    \n",
      "_________________________________________________________________\n",
      "max_pooling2d_38 (MaxPooling (None, 56, 56, 128)       0         \n",
      "_________________________________________________________________\n",
      "conv2d_121 (Conv2D)          (None, 56, 56, 256)       295168    \n",
      "_________________________________________________________________\n",
      "conv2d_122 (Conv2D)          (None, 56, 56, 256)       590080    \n",
      "_________________________________________________________________\n",
      "conv2d_123 (Conv2D)          (None, 56, 56, 256)       590080    \n",
      "_________________________________________________________________\n",
      "max_pooling2d_39 (MaxPooling (None, 28, 28, 256)       0         \n",
      "_________________________________________________________________\n",
      "conv2d_124 (Conv2D)          (None, 28, 28, 512)       1180160   \n",
      "_________________________________________________________________\n",
      "conv2d_125 (Conv2D)          (None, 28, 28, 512)       2359808   \n",
      "_________________________________________________________________\n",
      "conv2d_126 (Conv2D)          (None, 28, 28, 512)       2359808   \n",
      "_________________________________________________________________\n",
      "max_pooling2d_40 (MaxPooling (None, 14, 14, 512)       0         \n",
      "_________________________________________________________________\n",
      "conv2d_127 (Conv2D)          (None, 14, 14, 512)       2359808   \n",
      "_________________________________________________________________\n",
      "conv2d_128 (Conv2D)          (None, 14, 14, 512)       2359808   \n",
      "_________________________________________________________________\n",
      "conv2d_129 (Conv2D)          (None, 14, 14, 512)       2359808   \n",
      "_________________________________________________________________\n",
      "max_pooling2d_41 (MaxPooling (None, 7, 7, 512)         0         \n",
      "_________________________________________________________________\n",
      "flatten_6 (Flatten)          (None, 25088)             0         \n",
      "_________________________________________________________________\n",
      "dense_19 (Dense)             (None, 4096)              102764544 \n",
      "_________________________________________________________________\n",
      "dense_20 (Dense)             (None, 4096)              16781312  \n",
      "_________________________________________________________________\n",
      "dense_21 (Dense)             (None, 1000)              4097000   \n",
      "=================================================================\n",
      "Total params: 138,357,544\n",
      "Trainable params: 138,357,544\n",
      "Non-trainable params: 0\n",
      "_________________________________________________________________\n"
     ]
    }
   ],
   "source": [
    "model.summary()"
   ]
  },
  {
   "cell_type": "code",
   "execution_count": null,
   "metadata": {},
   "outputs": [],
   "source": []
  }
 ],
 "metadata": {
  "kernelspec": {
   "display_name": "Python 3",
   "language": "python",
   "name": "python3"
  },
  "language_info": {
   "codemirror_mode": {
    "name": "ipython",
    "version": 3
   },
   "file_extension": ".py",
   "mimetype": "text/x-python",
   "name": "python",
   "nbconvert_exporter": "python",
   "pygments_lexer": "ipython3",
   "version": "3.6.8"
  }
 },
 "nbformat": 4,
 "nbformat_minor": 2
}
